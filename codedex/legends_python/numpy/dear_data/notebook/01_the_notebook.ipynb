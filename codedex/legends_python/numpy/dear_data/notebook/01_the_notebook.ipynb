{
 "cells": [
  {
   "cell_type": "markdown",
   "metadata": {},
   "source": [
    "# 01. The Notebook 📘\n",
    "\n",
    "Exercise link: https://www.codedex.io/numpy/01-the-notebook"
   ]
  },
  {
   "cell_type": "code",
   "execution_count": 1,
   "metadata": {},
   "outputs": [
    {
     "name": "stdout",
     "output_type": "stream",
     "text": [
      "So it's not gonna be easy. It's gonna be really hard.\n"
     ]
    }
   ],
   "source": [
    "print('So it\\'s not gonna be easy. It\\'s gonna be really hard.')"
   ]
  },
  {
   "cell_type": "code",
   "execution_count": 2,
   "metadata": {},
   "outputs": [
    {
     "name": "stdout",
     "output_type": "stream",
     "text": [
      "So it's not gonna be easy. It's gonna be really hard.\n",
      "We're gonna have to work at this everyday, but I want to do that because I want all the data, forever. You and me.\n"
     ]
    }
   ],
   "source": [
    "print('So it\\'s not gonna be easy. It\\'s gonna be really hard.')\n",
    "\n",
    "print('We\\'re gonna have to work at this everyday, but I want to do that because I want all the data, forever. You and me.')"
   ]
  }
 ],
 "metadata": {
  "kernelspec": {
   "display_name": "Python 3",
   "language": "python",
   "name": "python3"
  },
  "language_info": {
   "codemirror_mode": {
    "name": "ipython",
    "version": 3
   },
   "file_extension": ".py",
   "mimetype": "text/x-python",
   "name": "python",
   "nbconvert_exporter": "python",
   "pygments_lexer": "ipython3",
   "version": "3.9.6"
  }
 },
 "nbformat": 4,
 "nbformat_minor": 2
}
